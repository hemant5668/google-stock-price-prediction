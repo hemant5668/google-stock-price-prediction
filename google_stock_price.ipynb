{
  "nbformat": 4,
  "nbformat_minor": 0,
  "metadata": {
    "colab": {
      "name": "google stock price",
      "provenance": [],
      "include_colab_link": true
    },
    "kernelspec": {
      "name": "python3",
      "display_name": "Python 3"
    },
    "accelerator": "GPU"
  },
  "cells": [
    {
      "cell_type": "markdown",
      "metadata": {
        "id": "view-in-github",
        "colab_type": "text"
      },
      "source": [
        "<a href=\"https://colab.research.google.com/github/hemant5668/google-stock-price-prediction/blob/master/google_stock_price.ipynb\" target=\"_parent\"><img src=\"https://colab.research.google.com/assets/colab-badge.svg\" alt=\"Open In Colab\"/></a>"
      ]
    },
    {
      "cell_type": "code",
      "metadata": {
        "id": "iSgKNCub5foh",
        "colab_type": "code",
        "colab": {}
      },
      "source": [
        "import pandas as pd\n",
        "import numpy as np\n",
        "import matplotlib.pyplot as plt"
      ],
      "execution_count": 0,
      "outputs": []
    },
    {
      "cell_type": "code",
      "metadata": {
        "id": "quBZhM7X6AXv",
        "colab_type": "code",
        "colab": {}
      },
      "source": [
        "#part-1  data preprocessing"
      ],
      "execution_count": 0,
      "outputs": []
    },
    {
      "cell_type": "code",
      "metadata": {
        "id": "VhPUXLQY7Hh6",
        "colab_type": "code",
        "colab": {}
      },
      "source": [
        "#importing training set\n",
        "dataset_train=pd.read_csv('/content/Google_Stock_Price_Train.csv')\n",
        "training_set=dataset_train.iloc[:,1:2]"
      ],
      "execution_count": 0,
      "outputs": []
    },
    {
      "cell_type": "code",
      "metadata": {
        "id": "7H7tnN0-8R7y",
        "colab_type": "code",
        "colab": {
          "base_uri": "https://localhost:8080/",
          "height": 204
        },
        "outputId": "4670ffd4-24ab-4fbf-9b55-d3705bbf705f"
      },
      "source": [
        "training_set.head(5)"
      ],
      "execution_count": 34,
      "outputs": [
        {
          "output_type": "execute_result",
          "data": {
            "text/html": [
              "<div>\n",
              "<style scoped>\n",
              "    .dataframe tbody tr th:only-of-type {\n",
              "        vertical-align: middle;\n",
              "    }\n",
              "\n",
              "    .dataframe tbody tr th {\n",
              "        vertical-align: top;\n",
              "    }\n",
              "\n",
              "    .dataframe thead th {\n",
              "        text-align: right;\n",
              "    }\n",
              "</style>\n",
              "<table border=\"1\" class=\"dataframe\">\n",
              "  <thead>\n",
              "    <tr style=\"text-align: right;\">\n",
              "      <th></th>\n",
              "      <th>Open</th>\n",
              "    </tr>\n",
              "  </thead>\n",
              "  <tbody>\n",
              "    <tr>\n",
              "      <th>0</th>\n",
              "      <td>325.25</td>\n",
              "    </tr>\n",
              "    <tr>\n",
              "      <th>1</th>\n",
              "      <td>331.27</td>\n",
              "    </tr>\n",
              "    <tr>\n",
              "      <th>2</th>\n",
              "      <td>329.83</td>\n",
              "    </tr>\n",
              "    <tr>\n",
              "      <th>3</th>\n",
              "      <td>328.34</td>\n",
              "    </tr>\n",
              "    <tr>\n",
              "      <th>4</th>\n",
              "      <td>322.04</td>\n",
              "    </tr>\n",
              "  </tbody>\n",
              "</table>\n",
              "</div>"
            ],
            "text/plain": [
              "     Open\n",
              "0  325.25\n",
              "1  331.27\n",
              "2  329.83\n",
              "3  328.34\n",
              "4  322.04"
            ]
          },
          "metadata": {
            "tags": []
          },
          "execution_count": 34
        }
      ]
    },
    {
      "cell_type": "code",
      "metadata": {
        "id": "KlvOjMid8R-x",
        "colab_type": "code",
        "colab": {}
      },
      "source": [
        "#feature scaling\n",
        "from sklearn.preprocessing import MinMaxScaler\n",
        "sc=MinMaxScaler()\n",
        "training_set_scales=sc.fit_transform(training_set)"
      ],
      "execution_count": 0,
      "outputs": []
    },
    {
      "cell_type": "code",
      "metadata": {
        "id": "U0pmZ_yA8SDl",
        "colab_type": "code",
        "colab": {}
      },
      "source": [
        "#creating a data structure with 60 timestamp and 1 output\n",
        "x_train=[]\n",
        "y_train=[]\n",
        "for i in range(60,1258):\n",
        "  x_train.append(training_set_scales[i-60: i,:])\n",
        "  y_train.append(training_set_scales[i,:])\n",
        "x_train,y_train=np.array(x_train),np.array(y_train)  "
      ],
      "execution_count": 0,
      "outputs": []
    },
    {
      "cell_type": "code",
      "metadata": {
        "id": "1Okcem2n8SGb",
        "colab_type": "code",
        "colab": {}
      },
      "source": [
        "#reshaping\n",
        "x_train=np.reshape(x_train,(x_train.shape[0],x_train.shape[1],1))"
      ],
      "execution_count": 0,
      "outputs": []
    },
    {
      "cell_type": "code",
      "metadata": {
        "id": "pBYFGL7m6gZ5",
        "colab_type": "code",
        "colab": {
          "base_uri": "https://localhost:8080/",
          "height": 34
        },
        "outputId": "84f65620-b559-461a-d28b-365826231aa9"
      },
      "source": [
        "x_train.shape\n",
        "#part-2 building RNN"
      ],
      "execution_count": 51,
      "outputs": [
        {
          "output_type": "execute_result",
          "data": {
            "text/plain": [
              "(1198, 60, 1)"
            ]
          },
          "metadata": {
            "tags": []
          },
          "execution_count": 51
        }
      ]
    },
    {
      "cell_type": "code",
      "metadata": {
        "id": "aA1EtmB_F_oE",
        "colab_type": "code",
        "colab": {}
      },
      "source": [
        "from keras.models import Sequential\n",
        "from keras.layers import Dense\n",
        "from keras.layers import Dropout\n",
        "from keras.layers import LSTM\n"
      ],
      "execution_count": 0,
      "outputs": []
    },
    {
      "cell_type": "code",
      "metadata": {
        "id": "hK1vehxKF_rH",
        "colab_type": "code",
        "colab": {}
      },
      "source": [
        "regessor=Sequential()\n",
        "#adding layers to the rnn and dropout\n",
        "regessor.add(LSTM(units=50,return_sequences=True,input_shape=(x_train.shape[1],1),dropout=0.2))\n",
        "regessor.add(LSTM(units=50,return_sequences=True,dropout=0.2))\n",
        "regessor.add(LSTM(units=50,return_sequences=True,dropout=0.2))\n",
        "regessor.add(LSTM(units=50,dropout=0.2))\n",
        "regessor.add(Dense(units=1))#utput layer"
      ],
      "execution_count": 0,
      "outputs": []
    },
    {
      "cell_type": "code",
      "metadata": {
        "id": "vFktPs09F_lr",
        "colab_type": "code",
        "colab": {
          "base_uri": "https://localhost:8080/",
          "height": 71
        },
        "outputId": "14eaf68b-c3ca-4a6a-d2a3-bbec57455b65"
      },
      "source": [
        "#compiling the Rnn\n",
        "regessor.compile(optimizer='adam',loss='mean_squared_error')"
      ],
      "execution_count": 64,
      "outputs": [
        {
          "output_type": "stream",
          "text": [
            "WARNING:tensorflow:From /usr/local/lib/python3.6/dist-packages/keras/optimizers.py:793: The name tf.train.Optimizer is deprecated. Please use tf.compat.v1.train.Optimizer instead.\n",
            "\n"
          ],
          "name": "stdout"
        }
      ]
    },
    {
      "cell_type": "code",
      "metadata": {
        "id": "FzK1s3tWNrJF",
        "colab_type": "code",
        "colab": {
          "base_uri": "https://localhost:8080/",
          "height": 1000
        },
        "outputId": "d3fd12c2-9cfe-42dc-a3cc-2bee7b83c6d8"
      },
      "source": [
        "#fit to rnn\n",
        "regessor.fit(x_train,y_train,batch_size=32,epochs=100)"
      ],
      "execution_count": 65,
      "outputs": [
        {
          "output_type": "stream",
          "text": [
            "WARNING:tensorflow:From /usr/local/lib/python3.6/dist-packages/tensorflow/python/ops/math_grad.py:1250: add_dispatch_support.<locals>.wrapper (from tensorflow.python.ops.array_ops) is deprecated and will be removed in a future version.\n",
            "Instructions for updating:\n",
            "Use tf.where in 2.0, which has the same broadcast rule as np.where\n",
            "WARNING:tensorflow:From /usr/local/lib/python3.6/dist-packages/keras/backend/tensorflow_backend.py:1033: The name tf.assign_add is deprecated. Please use tf.compat.v1.assign_add instead.\n",
            "\n",
            "Epoch 1/100\n",
            "1198/1198 [==============================] - 21s 17ms/step - loss: 0.0813\n",
            "Epoch 2/100\n",
            "1198/1198 [==============================] - 15s 12ms/step - loss: 0.0455\n",
            "Epoch 3/100\n",
            "1198/1198 [==============================] - 15s 12ms/step - loss: 0.0398\n",
            "Epoch 4/100\n",
            "1198/1198 [==============================] - 14s 12ms/step - loss: 0.0409\n",
            "Epoch 5/100\n",
            "1198/1198 [==============================] - 14s 12ms/step - loss: 0.0390\n",
            "Epoch 6/100\n",
            "1198/1198 [==============================] - 14s 12ms/step - loss: 0.0361\n",
            "Epoch 7/100\n",
            "1198/1198 [==============================] - 14s 12ms/step - loss: 0.0318\n",
            "Epoch 8/100\n",
            "1198/1198 [==============================] - 14s 12ms/step - loss: 0.0295\n",
            "Epoch 9/100\n",
            "1198/1198 [==============================] - 14s 12ms/step - loss: 0.0207\n",
            "Epoch 10/100\n",
            "1198/1198 [==============================] - 14s 12ms/step - loss: 0.0113\n",
            "Epoch 11/100\n",
            "1198/1198 [==============================] - 15s 12ms/step - loss: 0.0093\n",
            "Epoch 12/100\n",
            "1198/1198 [==============================] - 14s 12ms/step - loss: 0.0095\n",
            "Epoch 13/100\n",
            "1198/1198 [==============================] - 14s 12ms/step - loss: 0.0094\n",
            "Epoch 14/100\n",
            "1198/1198 [==============================] - 15s 12ms/step - loss: 0.0090\n",
            "Epoch 15/100\n",
            "1198/1198 [==============================] - 14s 12ms/step - loss: 0.0075\n",
            "Epoch 16/100\n",
            "1198/1198 [==============================] - 15s 12ms/step - loss: 0.0081\n",
            "Epoch 17/100\n",
            "1198/1198 [==============================] - 14s 12ms/step - loss: 0.0079\n",
            "Epoch 18/100\n",
            "1198/1198 [==============================] - 14s 12ms/step - loss: 0.0088\n",
            "Epoch 19/100\n",
            "1198/1198 [==============================] - 15s 12ms/step - loss: 0.0065\n",
            "Epoch 20/100\n",
            "1198/1198 [==============================] - 14s 12ms/step - loss: 0.0063\n",
            "Epoch 21/100\n",
            "1198/1198 [==============================] - 14s 12ms/step - loss: 0.0067\n",
            "Epoch 22/100\n",
            "1198/1198 [==============================] - 14s 12ms/step - loss: 0.0064\n",
            "Epoch 23/100\n",
            "1198/1198 [==============================] - 14s 12ms/step - loss: 0.0072\n",
            "Epoch 24/100\n",
            "1198/1198 [==============================] - 14s 12ms/step - loss: 0.0062\n",
            "Epoch 25/100\n",
            "1198/1198 [==============================] - 14s 12ms/step - loss: 0.0065\n",
            "Epoch 26/100\n",
            "1198/1198 [==============================] - 14s 12ms/step - loss: 0.0069\n",
            "Epoch 27/100\n",
            "1198/1198 [==============================] - 14s 12ms/step - loss: 0.0077\n",
            "Epoch 28/100\n",
            "1198/1198 [==============================] - 14s 12ms/step - loss: 0.0069\n",
            "Epoch 29/100\n",
            "1198/1198 [==============================] - 14s 12ms/step - loss: 0.0069\n",
            "Epoch 30/100\n",
            "1198/1198 [==============================] - 14s 12ms/step - loss: 0.0060\n",
            "Epoch 31/100\n",
            "1198/1198 [==============================] - 14s 12ms/step - loss: 0.0075\n",
            "Epoch 32/100\n",
            "1198/1198 [==============================] - 14s 12ms/step - loss: 0.0067\n",
            "Epoch 33/100\n",
            "1198/1198 [==============================] - 14s 12ms/step - loss: 0.0069\n",
            "Epoch 34/100\n",
            "1198/1198 [==============================] - 14s 12ms/step - loss: 0.0064\n",
            "Epoch 35/100\n",
            "1198/1198 [==============================] - 14s 12ms/step - loss: 0.0065\n",
            "Epoch 36/100\n",
            "1198/1198 [==============================] - 14s 12ms/step - loss: 0.0076\n",
            "Epoch 37/100\n",
            "1198/1198 [==============================] - 14s 12ms/step - loss: 0.0059\n",
            "Epoch 38/100\n",
            "1198/1198 [==============================] - 14s 12ms/step - loss: 0.0061\n",
            "Epoch 39/100\n",
            "1198/1198 [==============================] - 14s 12ms/step - loss: 0.0074\n",
            "Epoch 40/100\n",
            "1198/1198 [==============================] - 14s 12ms/step - loss: 0.0053\n",
            "Epoch 41/100\n",
            "1198/1198 [==============================] - 14s 12ms/step - loss: 0.0050\n",
            "Epoch 42/100\n",
            "1198/1198 [==============================] - 14s 12ms/step - loss: 0.0057\n",
            "Epoch 43/100\n",
            "1198/1198 [==============================] - 14s 11ms/step - loss: 0.0047\n",
            "Epoch 44/100\n",
            "1198/1198 [==============================] - 14s 12ms/step - loss: 0.0054\n",
            "Epoch 45/100\n",
            "1198/1198 [==============================] - 14s 12ms/step - loss: 0.0050\n",
            "Epoch 46/100\n",
            "1198/1198 [==============================] - 14s 12ms/step - loss: 0.0063\n",
            "Epoch 47/100\n",
            "1198/1198 [==============================] - 14s 12ms/step - loss: 0.0062\n",
            "Epoch 48/100\n",
            "1198/1198 [==============================] - 14s 12ms/step - loss: 0.0058\n",
            "Epoch 49/100\n",
            "1198/1198 [==============================] - 14s 12ms/step - loss: 0.0046\n",
            "Epoch 50/100\n",
            "1198/1198 [==============================] - 14s 12ms/step - loss: 0.0061\n",
            "Epoch 51/100\n",
            "1198/1198 [==============================] - 14s 12ms/step - loss: 0.0062\n",
            "Epoch 52/100\n",
            "1198/1198 [==============================] - 14s 12ms/step - loss: 0.0046\n",
            "Epoch 53/100\n",
            "1198/1198 [==============================] - 14s 12ms/step - loss: 0.0060\n",
            "Epoch 54/100\n",
            "1198/1198 [==============================] - 14s 12ms/step - loss: 0.0051\n",
            "Epoch 55/100\n",
            "1198/1198 [==============================] - 14s 12ms/step - loss: 0.0052\n",
            "Epoch 56/100\n",
            "1198/1198 [==============================] - 14s 12ms/step - loss: 0.0049\n",
            "Epoch 57/100\n",
            "1198/1198 [==============================] - 14s 12ms/step - loss: 0.0054\n",
            "Epoch 58/100\n",
            "1198/1198 [==============================] - 14s 12ms/step - loss: 0.0051\n",
            "Epoch 59/100\n",
            "1198/1198 [==============================] - 14s 12ms/step - loss: 0.0054\n",
            "Epoch 60/100\n",
            "1198/1198 [==============================] - 14s 12ms/step - loss: 0.0056\n",
            "Epoch 61/100\n",
            "1198/1198 [==============================] - 14s 12ms/step - loss: 0.0052\n",
            "Epoch 62/100\n",
            "1198/1198 [==============================] - 14s 12ms/step - loss: 0.0055\n",
            "Epoch 63/100\n",
            "1198/1198 [==============================] - 14s 11ms/step - loss: 0.0061\n",
            "Epoch 64/100\n",
            "1198/1198 [==============================] - 14s 12ms/step - loss: 0.0050\n",
            "Epoch 65/100\n",
            "1198/1198 [==============================] - 14s 12ms/step - loss: 0.0053\n",
            "Epoch 66/100\n",
            "1198/1198 [==============================] - 14s 12ms/step - loss: 0.0059\n",
            "Epoch 67/100\n",
            "1198/1198 [==============================] - 14s 11ms/step - loss: 0.0050\n",
            "Epoch 68/100\n",
            "1198/1198 [==============================] - 14s 11ms/step - loss: 0.0041\n",
            "Epoch 69/100\n",
            "1198/1198 [==============================] - 14s 12ms/step - loss: 0.0063\n",
            "Epoch 70/100\n",
            "1198/1198 [==============================] - 14s 12ms/step - loss: 0.0064\n",
            "Epoch 71/100\n",
            "1198/1198 [==============================] - 14s 12ms/step - loss: 0.0054\n",
            "Epoch 72/100\n",
            "1198/1198 [==============================] - 14s 12ms/step - loss: 0.0051\n",
            "Epoch 73/100\n",
            "1198/1198 [==============================] - 14s 12ms/step - loss: 0.0044\n",
            "Epoch 74/100\n",
            "1198/1198 [==============================] - 14s 12ms/step - loss: 0.0051\n",
            "Epoch 75/100\n",
            "1198/1198 [==============================] - 14s 11ms/step - loss: 0.0046\n",
            "Epoch 76/100\n",
            "1198/1198 [==============================] - 14s 11ms/step - loss: 0.0040\n",
            "Epoch 77/100\n",
            "1198/1198 [==============================] - 14s 12ms/step - loss: 0.0042\n",
            "Epoch 78/100\n",
            "1198/1198 [==============================] - 14s 11ms/step - loss: 0.0055\n",
            "Epoch 79/100\n",
            "1198/1198 [==============================] - 14s 11ms/step - loss: 0.0042\n",
            "Epoch 80/100\n",
            "1198/1198 [==============================] - 14s 11ms/step - loss: 0.0059\n",
            "Epoch 81/100\n",
            "1198/1198 [==============================] - 14s 12ms/step - loss: 0.0037\n",
            "Epoch 82/100\n",
            "1198/1198 [==============================] - 14s 11ms/step - loss: 0.0060\n",
            "Epoch 83/100\n",
            "1198/1198 [==============================] - 14s 12ms/step - loss: 0.0043\n",
            "Epoch 84/100\n",
            "1198/1198 [==============================] - 14s 12ms/step - loss: 0.0055\n",
            "Epoch 85/100\n",
            "1198/1198 [==============================] - 14s 11ms/step - loss: 0.0048\n",
            "Epoch 86/100\n",
            "1198/1198 [==============================] - 14s 11ms/step - loss: 0.0045\n",
            "Epoch 87/100\n",
            "1198/1198 [==============================] - 14s 11ms/step - loss: 0.0051\n",
            "Epoch 88/100\n",
            "1198/1198 [==============================] - 14s 12ms/step - loss: 0.0048\n",
            "Epoch 89/100\n",
            "1198/1198 [==============================] - 14s 12ms/step - loss: 0.0043\n",
            "Epoch 90/100\n",
            "1198/1198 [==============================] - 14s 12ms/step - loss: 0.0033\n",
            "Epoch 91/100\n",
            "1198/1198 [==============================] - 14s 12ms/step - loss: 0.0042\n",
            "Epoch 92/100\n",
            "1198/1198 [==============================] - 14s 11ms/step - loss: 0.0023\n",
            "Epoch 93/100\n",
            "1198/1198 [==============================] - 14s 11ms/step - loss: 0.0049\n",
            "Epoch 94/100\n",
            "1198/1198 [==============================] - 14s 12ms/step - loss: 0.0047\n",
            "Epoch 95/100\n",
            "1198/1198 [==============================] - 14s 11ms/step - loss: 0.0045\n",
            "Epoch 96/100\n",
            "1198/1198 [==============================] - 14s 11ms/step - loss: 0.0042\n",
            "Epoch 97/100\n",
            "1198/1198 [==============================] - 14s 11ms/step - loss: 0.0037\n",
            "Epoch 98/100\n",
            "1198/1198 [==============================] - 14s 11ms/step - loss: 0.0039\n",
            "Epoch 99/100\n",
            "1198/1198 [==============================] - 14s 11ms/step - loss: 0.0038\n",
            "Epoch 100/100\n",
            "1198/1198 [==============================] - 14s 12ms/step - loss: 0.0036\n"
          ],
          "name": "stdout"
        },
        {
          "output_type": "execute_result",
          "data": {
            "text/plain": [
              "<keras.callbacks.History at 0x7f1bfda5fac8>"
            ]
          },
          "metadata": {
            "tags": []
          },
          "execution_count": 65
        }
      ]
    },
    {
      "cell_type": "code",
      "metadata": {
        "id": "YGGHQzNm6mZu",
        "colab_type": "code",
        "colab": {}
      },
      "source": [
        "#part-3 make predictions and visualize the result"
      ],
      "execution_count": 0,
      "outputs": []
    },
    {
      "cell_type": "code",
      "metadata": {
        "id": "-JkVRUAD6xuK",
        "colab_type": "code",
        "colab": {}
      },
      "source": [
        "dataset_test=pd.read_csv('/content/Google_Stock_Price_Test.csv')\n",
        "real_stock=dataset_test.iloc[:,1:2]"
      ],
      "execution_count": 0,
      "outputs": []
    },
    {
      "cell_type": "code",
      "metadata": {
        "id": "7XcNMat9Y3kX",
        "colab_type": "code",
        "colab": {}
      },
      "source": [
        "#predicted the stock price of 2017\n",
        "dataset_total=pd.concat((dataset_train['Open'],dataset_test['Open']),axis=0)"
      ],
      "execution_count": 0,
      "outputs": []
    },
    {
      "cell_type": "code",
      "metadata": {
        "id": "eWVHW1y-Z5a9",
        "colab_type": "code",
        "colab": {}
      },
      "source": [
        "final_stock=dataset_total[len(dataset_total)-len(dataset_test)-60:].values"
      ],
      "execution_count": 0,
      "outputs": []
    },
    {
      "cell_type": "code",
      "metadata": {
        "id": "oHXeaiFpbv74",
        "colab_type": "code",
        "colab": {}
      },
      "source": [
        "final_stock=final_stock.reshape(-1,1)"
      ],
      "execution_count": 0,
      "outputs": []
    },
    {
      "cell_type": "code",
      "metadata": {
        "id": "A2JpCR-Pd6zs",
        "colab_type": "code",
        "colab": {}
      },
      "source": [
        "final_stock=sc.transform(final_stock)"
      ],
      "execution_count": 0,
      "outputs": []
    },
    {
      "cell_type": "code",
      "metadata": {
        "id": "xREids8WfCvK",
        "colab_type": "code",
        "colab": {}
      },
      "source": [
        "X_test=[]\n",
        "for i in range(60,80):\n",
        "  X_test.append(final_stock[i-60:i,0])\n",
        "X_test=np.array(X_test)\n",
        "X_test=np.reshape(X_test,(X_test.shape[0],X_test.shape[1],1))\n",
        "predicted_stock=regessor.predict(X_test)\n",
        "predicted_stock=sc.inverse_transform(predicted_stock)"
      ],
      "execution_count": 0,
      "outputs": []
    },
    {
      "cell_type": "code",
      "metadata": {
        "id": "6IIwRuYmgjUl",
        "colab_type": "code",
        "colab": {
          "base_uri": "https://localhost:8080/",
          "height": 283
        },
        "outputId": "6574c6a3-5894-47a3-d315-731d99fc7dbb"
      },
      "source": [
        "#visualisation\n",
        "plt.plot(real_stock,color='red',label='real google stock')\n",
        "plt.plot(predicted_stock,color='blue',label=' predicted google stock')\n",
        "plt.xlabel('time')\n",
        "plt.ylabel('stock price')\n",
        "plt.legend()\n",
        "plt.show()"
      ],
      "execution_count": 102,
      "outputs": [
        {
          "output_type": "display_data",
          "data": {
            "image/png": "[encoded data removed]",
            "text/plain": [
              "<Figure size 432x288 with 1 Axes>"
            ]
          },
          "metadata": {
            "tags": []
          }
        }
      ]
    },
    {
      "cell_type": "code",
      "metadata": {
        "id": "H0V9dTechVqo",
        "colab_type": "code",
        "colab": {}
      },
      "source": [
        ""
      ],
      "execution_count": 0,
      "outputs": []
    }
  ]
}